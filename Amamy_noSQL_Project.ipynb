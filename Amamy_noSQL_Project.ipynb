{
 "cells": [
  {
   "cell_type": "markdown",
   "id": "5eb3e4f7-1480-4678-8b65-dea8ad2f386b",
   "metadata": {},
   "source": [
    "## Script de génération des données :"
   ]
  },
  {
   "cell_type": "code",
   "execution_count": 10,
   "id": "8a71017e-8f95-4faf-a203-8607d2902b11",
   "metadata": {},
   "outputs": [],
   "source": [
    "import random\n",
    "import string\n",
    "import json\n",
    "\n",
    "# Générer des données de livres\n",
    "def generate_books(num_books):\n",
    "    books = []\n",
    "    for i in range(num_books):\n",
    "        book = {\n",
    "            \"title\": ''.join(random.choices(string.ascii_uppercase + string.digits, k=10)),\n",
    "            \"author_id\": f\"author{random.randint(1, 100)}\",\n",
    "            \"published_year\": random.randint(1900, 2023)\n",
    "        }\n",
    "        books.append(book)\n",
    "    return books\n",
    "\n",
    "# Générer des données d'auteurs\n",
    "def generate_authors(num_authors):\n",
    "    authors = []\n",
    "    for i in range(num_authors):\n",
    "        author = {\n",
    "            \"name\": ''.join(random.choices(string.ascii_uppercase + string.digits, k=10)),\n",
    "            \"birth_year\": random.randint(1900, 2000)\n",
    "        }\n",
    "        authors.append(author)\n",
    "    return authors\n",
    "\n",
    "# Générer des données d'emprunts\n",
    "def generate_borrows(num_borrows):\n",
    "    borrows = []\n",
    "    for i in range(num_borrows):\n",
    "        borrow = {\n",
    "            \"book_id\": f\"book{random.randint(1, 1000)}\",\n",
    "            \"borrow_date\": f\"2023-{random.randint(1, 12):02d}-{random.randint(1, 28):02d}\",\n",
    "            \"return_date\": f\"2023-{random.randint(1, 12):02d}-{random.randint(1, 28):02d}\"\n",
    "        }\n",
    "        borrows.append(borrow)\n",
    "    return borrows\n",
    "\n",
    "# Sauvegarder les données générées dans des fichiers JSON\n",
    "num_books = 10000\n",
    "num_authors = 1000\n",
    "num_borrows = 5000\n",
    "\n",
    "books = generate_books(num_books)\n",
    "authors = generate_authors(num_authors)\n",
    "borrows = generate_borrows(num_borrows)\n",
    "\n",
    "with open('data/books.json', 'w') as f:\n",
    "    json.dump(books, f)\n",
    "\n",
    "with open('data/authors.json', 'w') as f:\n",
    "    json.dump(authors, f)\n",
    "\n",
    "with open('data/borrows.json', 'w') as f:\n",
    "    json.dump(borrows, f)\n"
   ]
  },
  {
   "cell_type": "markdown",
   "id": "91578020-f5a2-4de3-93ce-8ebf5f879c5a",
   "metadata": {},
   "source": [
    "## Scripts pour importer les données et mesurer les performances :\n"
   ]
  },
  {
   "cell_type": "markdown",
   "id": "0349611d-2b96-4e6e-b978-2e36ae25fe4c",
   "metadata": {},
   "source": [
    "### Les Performance de CouchDB"
   ]
  },
  {
   "cell_type": "code",
   "execution_count": 13,
   "id": "721d5a5d-a213-4c2c-b288-41429e2532aa",
   "metadata": {},
   "outputs": [
    {
     "name": "stdout",
     "output_type": "stream",
     "text": [
      "Time taken: 313.5557017326355 seconds\n",
      "Time taken: 0.02392101287841797 seconds\n",
      "Time taken: 0.018618345260620117 seconds\n",
      "Time taken: 0.01402139663696289 seconds\n",
      "Time taken: 0.039955854415893555 seconds\n",
      "Time taken: 0.02508378028869629 seconds\n",
      "Time taken: 0.07315921783447266 seconds\n"
     ]
    },
    {
     "data": {
      "text/plain": [
       "{'ok': True, 'id': 'book1', 'rev': '18-b35bff33348ea635ec5d94f7fbd4d8d5'}"
      ]
     },
     "execution_count": 13,
     "metadata": {},
     "output_type": "execute_result"
    }
   ],
   "source": [
    "import time\n",
    "import requests\n",
    "\n",
    "# Configuration de CouchDB\n",
    "couchdb_url = 'http://127.0.0.1:5984/'\n",
    "couchdb_auth = ('Almamy', '00000000')\n",
    "db_name = 'library'\n",
    "\n",
    "# Fonction pour mesurer le temps d'exécution\n",
    "def measure_time(func):\n",
    "    def wrapper(*args, **kwargs):\n",
    "        start_time = time.time()\n",
    "        result = func(*args, **kwargs)\n",
    "        end_time = time.time()\n",
    "        print(f'Time taken: {end_time - start_time} seconds')\n",
    "        return result\n",
    "    return wrapper\n",
    "\n",
    "# Création de la base de données\n",
    "requests.put(f'{couchdb_url}{db_name}', auth=couchdb_auth)\n",
    "\n",
    "# Fonction pour ajouter des documents\n",
    "def add_document(doc, doc_id=None):\n",
    "    if doc_id:\n",
    "        response = requests.put(f'{couchdb_url}{db_name}/{doc_id}', auth=couchdb_auth, json=doc)\n",
    "    else:\n",
    "        response = requests.post(f'{couchdb_url}{db_name}', auth=couchdb_auth, json=doc)\n",
    "    return response.json()\n",
    "\n",
    "# Charger les données\n",
    "with open('data/books.json', 'r') as f:\n",
    "    books = json.load(f)\n",
    "with open('data/authors.json', 'r') as f:\n",
    "    authors = json.load(f)\n",
    "with open('data/borrows.json', 'r') as f:\n",
    "    borrows = json.load(f)\n",
    "\n",
    "# Ajouter les documents dans CouchDB\n",
    "@measure_time\n",
    "def load_data():\n",
    "    for i, book in enumerate(books):\n",
    "        add_document(book, f'book{i+1}')\n",
    "    for i, author in enumerate(authors):\n",
    "        add_document(author, f'author{i+1}')\n",
    "    for i, borrow in enumerate(borrows):\n",
    "        add_document(borrow, f'borrow{i+1}')\n",
    "\n",
    "load_data()\n",
    "\n",
    "# Mesurer les performances des opérations CRUD\n",
    "@measure_time\n",
    "def create_document(doc, doc_id=None):\n",
    "    if doc_id:\n",
    "        response = requests.put(f'{couchdb_url}{db_name}/{doc_id}', auth=couchdb_auth, json=doc)\n",
    "    else:\n",
    "        response = requests.post(f'{couchdb_url}{db_name}', auth=couchdb_auth, json=doc)\n",
    "    return response.json()\n",
    "\n",
    "@measure_time\n",
    "def read_document(doc_id):\n",
    "    response = requests.get(f'{couchdb_url}{db_name}/{doc_id}', auth=couchdb_auth)\n",
    "    return response.json()\n",
    "\n",
    "@measure_time\n",
    "def update_document(doc_id, update):\n",
    "    doc = read_document(doc_id)\n",
    "    doc.update(update)\n",
    "    response = requests.put(f'{couchdb_url}{db_name}/{doc_id}', auth=couchdb_auth, json=doc)\n",
    "    return response.json()\n",
    "\n",
    "@measure_time\n",
    "def delete_document(doc_id):\n",
    "    doc = read_document(doc_id)\n",
    "    response = requests.delete(f'{couchdb_url}{db_name}/{doc_id}?rev={doc[\"_rev\"]}', auth=couchdb_auth)\n",
    "    return response.json()\n",
    "\n",
    "# Exemple d'utilisation\n",
    "doc_id = 'book1'\n",
    "create_document({\"title\": \"New Book\", \"author_id\": \"author1\", \"published_year\": 2021}, doc_id)\n",
    "read_document(doc_id)\n",
    "update_document(doc_id, {\"title\": \"Updated Book\"})\n",
    "delete_document(doc_id)\n"
   ]
  },
  {
   "cell_type": "markdown",
   "id": "6540631e-9832-45d9-a11c-cb87ac18bca6",
   "metadata": {},
   "source": [
    "### Les Performance de Redis"
   ]
  },
  {
   "cell_type": "code",
   "execution_count": 9,
   "id": "08ff7fb3-39e3-4954-9180-05bf134c1cda",
   "metadata": {},
   "outputs": [
    {
     "name": "stderr",
     "output_type": "stream",
     "text": [
      "C:\\Users\\HP\\AppData\\Local\\Temp\\ipykernel_17580\\2885376056.py:30: DeprecationWarning: Redis.hmset() is deprecated. Use Redis.hset() instead.\n",
      "  redis_client.hmset(f'book{i+1}', book)\n",
      "C:\\Users\\HP\\AppData\\Local\\Temp\\ipykernel_17580\\2885376056.py:32: DeprecationWarning: Redis.hmset() is deprecated. Use Redis.hset() instead.\n",
      "  redis_client.hmset(f'author{i+1}', author)\n",
      "C:\\Users\\HP\\AppData\\Local\\Temp\\ipykernel_17580\\2885376056.py:34: DeprecationWarning: Redis.hmset() is deprecated. Use Redis.hset() instead.\n",
      "  redis_client.hmset(f'borrow{i+1}', borrow)\n"
     ]
    },
    {
     "name": "stdout",
     "output_type": "stream",
     "text": [
      "Time taken: 6.314136981964111 seconds\n",
      "Time taken: 0.0019996166229248047 seconds\n",
      "Time taken: 0.01465749740600586 seconds\n",
      "Time taken: 0.0010218620300292969 seconds\n",
      "Time taken: 0.0 seconds\n"
     ]
    },
    {
     "name": "stderr",
     "output_type": "stream",
     "text": [
      "C:\\Users\\HP\\AppData\\Local\\Temp\\ipykernel_17580\\2885376056.py:41: DeprecationWarning: Redis.hmset() is deprecated. Use Redis.hset() instead.\n",
      "  redis_client.hmset(doc_id, doc)\n",
      "C:\\Users\\HP\\AppData\\Local\\Temp\\ipykernel_17580\\2885376056.py:49: DeprecationWarning: Redis.hmset() is deprecated. Use Redis.hset() instead.\n",
      "  redis_client.hmset(doc_id, update)\n"
     ]
    }
   ],
   "source": [
    "import time\n",
    "import redis\n",
    "import json\n",
    "\n",
    "# Configuration de Redis\n",
    "redis_client = redis.StrictRedis(host='localhost', port=6379, db=0)\n",
    "\n",
    "# Fonction pour mesurer le temps d'exécution\n",
    "def measure_time(func):\n",
    "    def wrapper(*args, **kwargs):\n",
    "        start_time = time.time()\n",
    "        result = func(*args, **kwargs)\n",
    "        end_time = time.time()\n",
    "        print(f'Time taken: {end_time - start_time} seconds')\n",
    "        return result\n",
    "    return wrapper\n",
    "\n",
    "# Charger les données\n",
    "with open('data/books.json', 'r') as f:\n",
    "    books = json.load(f)\n",
    "with open('data/authors.json', 'r') as f:\n",
    "    authors = json.load(f)\n",
    "with open('data/borrows.json', 'r') as f:\n",
    "    borrows = json.load(f)\n",
    "\n",
    "# Ajouter les documents dans Redis\n",
    "@measure_time\n",
    "def load_data():\n",
    "    for i, book in enumerate(books):\n",
    "        redis_client.hmset(f'book{i+1}', book)\n",
    "    for i, author in enumerate(authors):\n",
    "        redis_client.hmset(f'author{i+1}', author)\n",
    "    for i, borrow in enumerate(borrows):\n",
    "        redis_client.hmset(f'borrow{i+1}', borrow)\n",
    "\n",
    "load_data()\n",
    "\n",
    "# Mesurer les performances des opérations CRUD\n",
    "@measure_time\n",
    "def create_document(doc, doc_id):\n",
    "    redis_client.hmset(doc_id, doc)\n",
    "\n",
    "@measure_time\n",
    "def read_document(doc_id):\n",
    "    return redis_client.hgetall(doc_id)\n",
    "\n",
    "@measure_time\n",
    "def update_document(doc_id, update):\n",
    "    redis_client.hmset(doc_id, update)\n",
    "\n",
    "@measure_time\n",
    "def delete_document(doc_id):\n",
    "    redis_client.delete(doc_id)\n",
    "\n",
    "# Exemple d'utilisation\n",
    "doc_id = 'book1'\n",
    "create_document({\"title\": \"New Book\", \"author_id\": \"author1\", \"published_year\": 2021}, doc_id)\n",
    "read_document(doc_id)\n",
    "update_document(doc_id, {\"title\": \"Updated Book\"})\n",
    "delete_document(doc_id)\n"
   ]
  },
  {
   "cell_type": "code",
   "execution_count": null,
   "id": "9d335201-cbd1-44d2-906b-035d5719af70",
   "metadata": {},
   "outputs": [],
   "source": []
  }
 ],
 "metadata": {
  "kernelspec": {
   "display_name": "Python 3 (ipykernel)",
   "language": "python",
   "name": "python3"
  },
  "language_info": {
   "codemirror_mode": {
    "name": "ipython",
    "version": 3
   },
   "file_extension": ".py",
   "mimetype": "text/x-python",
   "name": "python",
   "nbconvert_exporter": "python",
   "pygments_lexer": "ipython3",
   "version": "3.8.2"
  }
 },
 "nbformat": 4,
 "nbformat_minor": 5
}
